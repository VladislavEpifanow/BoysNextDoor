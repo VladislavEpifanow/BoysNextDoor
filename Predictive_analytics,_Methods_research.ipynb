{
  "nbformat": 4,
  "nbformat_minor": 0,
  "metadata": {
    "colab": {
      "provenance": [],
      "collapsed_sections": [],
      "authorship_tag": "ABX9TyMKrcMktu6l6pfiBHqW/a1U",
      "include_colab_link": true
    },
    "kernelspec": {
      "name": "python3",
      "display_name": "Python 3"
    },
    "language_info": {
      "name": "python"
    }
  },
  "cells": [
    {
      "cell_type": "markdown",
      "metadata": {
        "id": "view-in-github",
        "colab_type": "text"
      },
      "source": [
        "<a href=\"https://colab.research.google.com/github/VladislavEpifanow/BoysNextDoor/blob/main/Predictive_analytics%2C_Methods_research.ipynb\" target=\"_parent\"><img src=\"https://colab.research.google.com/assets/colab-badge.svg\" alt=\"Open In Colab\"/></a>"
      ]
    },
    {
      "cell_type": "code",
      "execution_count": 70,
      "metadata": {
        "id": "tfkFj9qNfUu6"
      },
      "outputs": [],
      "source": [
        "import sys\n",
        "import warnings\n",
        "warnings.filterwarnings('ignore')\n",
        "from tqdm import tqdm\n",
        "\n",
        "import pandas as pd\n",
        "import numpy as np\n",
        "from sklearn.metrics import mean_absolute_error, mean_squared_error\n",
        "\n",
        "import statsmodels.formula.api as smf\n",
        "import statsmodels.tsa.api as smt\n",
        "import statsmodels.api as sm\n",
        "import scipy.stats as scs\n",
        "from scipy.optimize import minimize\n",
        "\n",
        "import matplotlib.pyplot as plt"
      ]
    },
    {
      "cell_type": "code",
      "source": [
        "import json"
      ],
      "metadata": {
        "id": "7euWP1tbfisg"
      },
      "execution_count": 2,
      "outputs": []
    },
    {
      "cell_type": "code",
      "source": [
        "with open(\"test-dataset.json\",\"r\") as read_file:\n",
        "  data = json.load(read_file)"
      ],
      "metadata": {
        "id": "f6hWyFXdf3ky"
      },
      "execution_count": 4,
      "outputs": []
    },
    {
      "cell_type": "code",
      "source": [
        "data"
      ],
      "metadata": {
        "colab": {
          "base_uri": "https://localhost:8080/"
        },
        "id": "ezBBa-ABgNvo",
        "outputId": "eabbb447-a1f9-477d-dd72-23f953ecc40a"
      },
      "execution_count": 5,
      "outputs": [
        {
          "output_type": "execute_result",
          "data": {
            "text/plain": [
              "{'NavStartMin': '2019-12-31',\n",
              " 'SeriesName': ['T3(°C)'],\n",
              " 'SeriesData': [[None,\n",
              "   None,\n",
              "   None,\n",
              "   None,\n",
              "   None,\n",
              "   68.5,\n",
              "   68.6,\n",
              "   68.9,\n",
              "   68.6,\n",
              "   68.3,\n",
              "   68.6,\n",
              "   68.6,\n",
              "   68.0,\n",
              "   67.6,\n",
              "   68.3,\n",
              "   67.8,\n",
              "   68.6,\n",
              "   68.7,\n",
              "   68.3,\n",
              "   68.3,\n",
              "   67.9,\n",
              "   68.3,\n",
              "   68.1,\n",
              "   68.9,\n",
              "   69.2,\n",
              "   68.6,\n",
              "   68.5,\n",
              "   68.1,\n",
              "   68.8,\n",
              "   68.4,\n",
              "   68.5,\n",
              "   68.2,\n",
              "   68.4,\n",
              "   68.5,\n",
              "   69.0,\n",
              "   68.2,\n",
              "   68.4,\n",
              "   68.3,\n",
              "   68.5,\n",
              "   68.2,\n",
              "   68.0,\n",
              "   68.5,\n",
              "   68.7,\n",
              "   68.7,\n",
              "   67.6,\n",
              "   67.6,\n",
              "   69.0,\n",
              "   68.8,\n",
              "   68.1,\n",
              "   66.6,\n",
              "   66.0,\n",
              "   65.8,\n",
              "   66.0,\n",
              "   65.8,\n",
              "   65.3,\n",
              "   65.4,\n",
              "   65.8,\n",
              "   65.9,\n",
              "   66.0,\n",
              "   66.1,\n",
              "   66.0,\n",
              "   66.3,\n",
              "   66.8,\n",
              "   67.1,\n",
              "   67.1,\n",
              "   67.1,\n",
              "   66.7,\n",
              "   66.5,\n",
              "   66.2,\n",
              "   65.6,\n",
              "   65.9,\n",
              "   66.3,\n",
              "   66.8,\n",
              "   67.5,\n",
              "   66.2,\n",
              "   63.9,\n",
              "   63.9,\n",
              "   63.7,\n",
              "   63.7,\n",
              "   63.9,\n",
              "   64.0,\n",
              "   64.5,\n",
              "   65.4,\n",
              "   65.6,\n",
              "   64.8,\n",
              "   63.7,\n",
              "   63.6,\n",
              "   64.0,\n",
              "   64.5,\n",
              "   64.6,\n",
              "   63.9,\n",
              "   63.9,\n",
              "   64.2,\n",
              "   64.5,\n",
              "   64.1,\n",
              "   63.2,\n",
              "   63.3,\n",
              "   63.6,\n",
              "   63.9,\n",
              "   63.9,\n",
              "   63.9,\n",
              "   63.9,\n",
              "   63.9,\n",
              "   63.9,\n",
              "   63.9,\n",
              "   63.9,\n",
              "   64.3,\n",
              "   66.0,\n",
              "   66.4,\n",
              "   66.7,\n",
              "   66.0,\n",
              "   65.7,\n",
              "   64.1,\n",
              "   63.4,\n",
              "   64.0,\n",
              "   64.3,\n",
              "   64.3,\n",
              "   64.7,\n",
              "   64.7,\n",
              "   63.5,\n",
              "   63.5,\n",
              "   66.1,\n",
              "   67.2,\n",
              "   67.5,\n",
              "   68.4,\n",
              "   68.1,\n",
              "   67.5,\n",
              "   67.2,\n",
              "   67.4,\n",
              "   67.8,\n",
              "   67.7,\n",
              "   67.1,\n",
              "   66.9,\n",
              "   67.0,\n",
              "   67.1,\n",
              "   67.2,\n",
              "   67.1,\n",
              "   67.8,\n",
              "   67.5,\n",
              "   67.1,\n",
              "   66.9,\n",
              "   65.3,\n",
              "   65.0,\n",
              "   65.6,\n",
              "   66.8,\n",
              "   67.3,\n",
              "   66.9,\n",
              "   67.5,\n",
              "   67.1,\n",
              "   67.5,\n",
              "   67.5,\n",
              "   66.6,\n",
              "   68.1,\n",
              "   69.1,\n",
              "   68.2,\n",
              "   68.7,\n",
              "   68.1,\n",
              "   68.1,\n",
              "   67.8,\n",
              "   68.2,\n",
              "   68.4,\n",
              "   68.3,\n",
              "   68.3,\n",
              "   69.5,\n",
              "   68.3,\n",
              "   68.5,\n",
              "   68.4,\n",
              "   68.2,\n",
              "   68.2,\n",
              "   68.1,\n",
              "   68.4,\n",
              "   68.1,\n",
              "   68.3,\n",
              "   68.6,\n",
              "   68.1,\n",
              "   67.7,\n",
              "   68.6,\n",
              "   67.9,\n",
              "   68.2,\n",
              "   67.9,\n",
              "   67.8,\n",
              "   67.5,\n",
              "   67.7,\n",
              "   67.0,\n",
              "   68.1,\n",
              "   68.1,\n",
              "   67.6,\n",
              "   67.8,\n",
              "   68.0,\n",
              "   67.7,\n",
              "   67.4,\n",
              "   68.0,\n",
              "   67.5,\n",
              "   67.4,\n",
              "   67.5,\n",
              "   68.0,\n",
              "   67.6,\n",
              "   67.2,\n",
              "   68.1,\n",
              "   67.5,\n",
              "   67.8,\n",
              "   67.8,\n",
              "   67.7,\n",
              "   67.6,\n",
              "   68.0,\n",
              "   68.0,\n",
              "   68.1,\n",
              "   67.8,\n",
              "   67.9,\n",
              "   68.1,\n",
              "   68.2,\n",
              "   68.0,\n",
              "   68.7,\n",
              "   67.8,\n",
              "   68.0,\n",
              "   67.9,\n",
              "   68.3,\n",
              "   68.9,\n",
              "   68.2,\n",
              "   68.4,\n",
              "   69.3,\n",
              "   69.1,\n",
              "   68.9,\n",
              "   68.8,\n",
              "   69.3,\n",
              "   69.3,\n",
              "   69.0,\n",
              "   69.4,\n",
              "   69.1,\n",
              "   69.2,\n",
              "   69.0,\n",
              "   68.5,\n",
              "   68.9,\n",
              "   69.1,\n",
              "   68.1,\n",
              "   69.2,\n",
              "   67.7,\n",
              "   68.2,\n",
              "   69.0,\n",
              "   68.4,\n",
              "   68.4,\n",
              "   68.9,\n",
              "   68.8,\n",
              "   69.3,\n",
              "   68.9,\n",
              "   69.1,\n",
              "   69.3,\n",
              "   69.4,\n",
              "   69.0,\n",
              "   65.7,\n",
              "   20.7,\n",
              "   36.3,\n",
              "   66.9,\n",
              "   66.8,\n",
              "   67.0,\n",
              "   65.2,\n",
              "   64.4,\n",
              "   64.6,\n",
              "   64.8,\n",
              "   65.8,\n",
              "   64.6,\n",
              "   64.2,\n",
              "   64.2,\n",
              "   64.1,\n",
              "   64.3,\n",
              "   64.1,\n",
              "   63.3,\n",
              "   63.5,\n",
              "   63.8,\n",
              "   63.7,\n",
              "   63.4,\n",
              "   63.4,\n",
              "   63.7,\n",
              "   64.2,\n",
              "   63.8,\n",
              "   63.9,\n",
              "   64.3,\n",
              "   63.8,\n",
              "   62.7,\n",
              "   63.5,\n",
              "   64.4,\n",
              "   64.9,\n",
              "   64.7,\n",
              "   64.0,\n",
              "   64.3,\n",
              "   64.6,\n",
              "   64.5,\n",
              "   64.2,\n",
              "   63.9,\n",
              "   64.2,\n",
              "   63.7,\n",
              "   64.6,\n",
              "   67.0,\n",
              "   67.3,\n",
              "   65.9,\n",
              "   66.4,\n",
              "   67.1,\n",
              "   None,\n",
              "   None,\n",
              "   None,\n",
              "   None,\n",
              "   None,\n",
              "   None,\n",
              "   None,\n",
              "   None,\n",
              "   None,\n",
              "   None,\n",
              "   None,\n",
              "   68.0,\n",
              "   67.9,\n",
              "   68.0,\n",
              "   68.0,\n",
              "   67.8,\n",
              "   68.5,\n",
              "   68.0,\n",
              "   68.3,\n",
              "   67.8,\n",
              "   67.5,\n",
              "   67.7,\n",
              "   67.8,\n",
              "   68.0,\n",
              "   67.8,\n",
              "   67.9,\n",
              "   68.4,\n",
              "   68.4,\n",
              "   68.5,\n",
              "   68.0,\n",
              "   67.6,\n",
              "   68.5,\n",
              "   67.9,\n",
              "   68.2,\n",
              "   68.4,\n",
              "   68.6,\n",
              "   67.9,\n",
              "   66.8,\n",
              "   67.7,\n",
              "   68.1,\n",
              "   67.4,\n",
              "   65.0,\n",
              "   64.4,\n",
              "   64.9,\n",
              "   64.5,\n",
              "   64.3,\n",
              "   64.8,\n",
              "   65.3,\n",
              "   65.2,\n",
              "   65.1,\n",
              "   65.2,\n",
              "   65.4,\n",
              "   65.3,\n",
              "   65.3,\n",
              "   65.1,\n",
              "   64.9,\n",
              "   65.2,\n",
              "   65.5,\n",
              "   65.7,\n",
              "   65.4,\n",
              "   64.9,\n",
              "   65.6,\n",
              "   66.2,\n",
              "   66.4,\n",
              "   64.8,\n",
              "   64.2,\n",
              "   65.0,\n",
              "   65.8,\n",
              "   65.1,\n",
              "   64.7,\n",
              "   65.0,\n",
              "   64.9,\n",
              "   64.9,\n",
              "   65.0,\n",
              "   65.2,\n",
              "   65.0,\n",
              "   64.9,\n",
              "   65.0,\n",
              "   65.1,\n",
              "   65.6,\n",
              "   65.5,\n",
              "   65.3,\n",
              "   67.4,\n",
              "   68.6,\n",
              "   68.1,\n",
              "   67.8,\n",
              "   67.3,\n",
              "   68.6,\n",
              "   68.2,\n",
              "   67.9,\n",
              "   68.4,\n",
              "   68.5,\n",
              "   68.7,\n",
              "   67.8,\n",
              "   67.8,\n",
              "   68.4,\n",
              "   68.3,\n",
              "   68.3,\n",
              "   68.7,\n",
              "   68.9,\n",
              "   68.9,\n",
              "   68.8,\n",
              "   68.9,\n",
              "   68.5,\n",
              "   68.8,\n",
              "   68.9,\n",
              "   68.2,\n",
              "   67.8,\n",
              "   68.1,\n",
              "   69.0,\n",
              "   69.3,\n",
              "   69.5,\n",
              "   68.7,\n",
              "   69.0,\n",
              "   69.4,\n",
              "   68.2,\n",
              "   69.7,\n",
              "   69.0,\n",
              "   68.0,\n",
              "   68.3,\n",
              "   68.0,\n",
              "   69.2,\n",
              "   68.5,\n",
              "   67.5,\n",
              "   68.8,\n",
              "   68.3,\n",
              "   68.5,\n",
              "   69.0,\n",
              "   68.1,\n",
              "   68.9,\n",
              "   69.1,\n",
              "   68.7,\n",
              "   68.9,\n",
              "   68.9,\n",
              "   69.2,\n",
              "   69.3,\n",
              "   69.0,\n",
              "   69.5,\n",
              "   69.2,\n",
              "   69.0,\n",
              "   68.3,\n",
              "   68.0,\n",
              "   68.5,\n",
              "   68.2,\n",
              "   65.7,\n",
              "   64.4,\n",
              "   64.6,\n",
              "   64.2,\n",
              "   64.6,\n",
              "   64.9,\n",
              "   65.1,\n",
              "   65.4,\n",
              "   64.9,\n",
              "   64.5,\n",
              "   64.4,\n",
              "   65.3,\n",
              "   65.9,\n",
              "   64.7,\n",
              "   63.8,\n",
              "   64.4,\n",
              "   65.1,\n",
              "   64.6,\n",
              "   64.6,\n",
              "   64.6,\n",
              "   64.6,\n",
              "   64.6,\n",
              "   64.6,\n",
              "   64.6,\n",
              "   64.6,\n",
              "   64.6,\n",
              "   64.6,\n",
              "   64.6,\n",
              "   64.6,\n",
              "   64.6,\n",
              "   64.6,\n",
              "   64.6,\n",
              "   64.6,\n",
              "   64.6,\n",
              "   64.6,\n",
              "   64.6,\n",
              "   64.6,\n",
              "   64.6,\n",
              "   64.6,\n",
              "   64.6,\n",
              "   64.6,\n",
              "   64.6,\n",
              "   64.6,\n",
              "   64.6,\n",
              "   64.6,\n",
              "   64.6,\n",
              "   64.6,\n",
              "   64.6,\n",
              "   64.6,\n",
              "   64.6,\n",
              "   64.6,\n",
              "   64.6,\n",
              "   64.6,\n",
              "   64.6,\n",
              "   64.6,\n",
              "   64.6,\n",
              "   64.6,\n",
              "   64.6,\n",
              "   64.6,\n",
              "   64.6,\n",
              "   64.6,\n",
              "   64.6,\n",
              "   64.6,\n",
              "   64.6,\n",
              "   64.6,\n",
              "   64.6,\n",
              "   64.6,\n",
              "   64.6,\n",
              "   64.6,\n",
              "   64.6,\n",
              "   64.6,\n",
              "   64.6,\n",
              "   64.6,\n",
              "   65.7,\n",
              "   67.5,\n",
              "   67.7,\n",
              "   67.3,\n",
              "   66.9,\n",
              "   64.9,\n",
              "   64.6,\n",
              "   64.7,\n",
              "   64.2,\n",
              "   64.1,\n",
              "   65.0,\n",
              "   65.1,\n",
              "   64.9,\n",
              "   64.7,\n",
              "   64.8,\n",
              "   65.5,\n",
              "   65.7,\n",
              "   65.5,\n",
              "   65.1,\n",
              "   64.9,\n",
              "   64.8,\n",
              "   64.3,\n",
              "   65.0,\n",
              "   65.6,\n",
              "   65.5,\n",
              "   64.8,\n",
              "   63.9,\n",
              "   64.3,\n",
              "   64.6,\n",
              "   64.4,\n",
              "   65.1,\n",
              "   64.1,\n",
              "   63.9,\n",
              "   63.9,\n",
              "   64.0,\n",
              "   65.0,\n",
              "   65.4,\n",
              "   64.9,\n",
              "   64.4,\n",
              "   63.8,\n",
              "   63.6,\n",
              "   63.5,\n",
              "   63.6,\n",
              "   63.4,\n",
              "   63.0,\n",
              "   62.6,\n",
              "   62.9,\n",
              "   63.0,\n",
              "   63.0,\n",
              "   62.7,\n",
              "   62.9,\n",
              "   63.3,\n",
              "   63.2,\n",
              "   63.4,\n",
              "   64.0,\n",
              "   63.7,\n",
              "   62.6,\n",
              "   62.8,\n",
              "   63.1,\n",
              "   62.7,\n",
              "   62.7,\n",
              "   63.3,\n",
              "   63.7,\n",
              "   64.0,\n",
              "   64.2,\n",
              "   63.9,\n",
              "   64.0,\n",
              "   63.5,\n",
              "   63.6,\n",
              "   None,\n",
              "   None,\n",
              "   62.5,\n",
              "   62.9,\n",
              "   63.4,\n",
              "   62.9,\n",
              "   62.3,\n",
              "   62.6,\n",
              "   63.4,\n",
              "   64.0,\n",
              "   63.5,\n",
              "   62.6,\n",
              "   63.7,\n",
              "   63.8,\n",
              "   63.2,\n",
              "   62.8,\n",
              "   63.1,\n",
              "   63.0,\n",
              "   63.8,\n",
              "   64.4,\n",
              "   64.4,\n",
              "   64.0,\n",
              "   63.8,\n",
              "   64.3,\n",
              "   63.4,\n",
              "   63.1,\n",
              "   63.1,\n",
              "   63.3,\n",
              "   63.7,\n",
              "   64.0,\n",
              "   63.1,\n",
              "   62.6,\n",
              "   62.6,\n",
              "   63.9,\n",
              "   63.8,\n",
              "   63.8,\n",
              "   63.2,\n",
              "   63.0,\n",
              "   63.0,\n",
              "   63.4,\n",
              "   63.4,\n",
              "   63.7,\n",
              "   63.6,\n",
              "   63.8,\n",
              "   63.3,\n",
              "   63.4,\n",
              "   63.3,\n",
              "   62.6,\n",
              "   63.1,\n",
              "   63.5,\n",
              "   63.2,\n",
              "   62.5,\n",
              "   62.9,\n",
              "   63.3,\n",
              "   63.1,\n",
              "   62.4,\n",
              "   62.6,\n",
              "   62.5,\n",
              "   62.2,\n",
              "   62.1,\n",
              "   61.8,\n",
              "   61.8,\n",
              "   61.5,\n",
              "   61.6,\n",
              "   62.8,\n",
              "   63.3,\n",
              "   63.0,\n",
              "   62.4,\n",
              "   62.2,\n",
              "   62.3,\n",
              "   63.4,\n",
              "   63.4,\n",
              "   62.6,\n",
              "   61.5,\n",
              "   63.0,\n",
              "   64.0,\n",
              "   64.1,\n",
              "   63.1,\n",
              "   61.9,\n",
              "   62.1,\n",
              "   63.1,\n",
              "   63.4,\n",
              "   63.4,\n",
              "   62.6,\n",
              "   63.1,\n",
              "   65.1,\n",
              "   61.7,\n",
              "   60.9,\n",
              "   59.8,\n",
              "   60.4,\n",
              "   62.4,\n",
              "   62.4,\n",
              "   62.7,\n",
              "   62.3,\n",
              "   62.1,\n",
              "   62.2,\n",
              "   61.9,\n",
              "   62.3,\n",
              "   62.3,\n",
              "   61.7,\n",
              "   62.4,\n",
              "   63.4,\n",
              "   63.3,\n",
              "   61.7,\n",
              "   61.4,\n",
              "   61.4,\n",
              "   60.3,\n",
              "   60.0,\n",
              "   59.7,\n",
              "   60.3,\n",
              "   60.7,\n",
              "   59.9,\n",
              "   59.5,\n",
              "   59.2,\n",
              "   58.7,\n",
              "   59.0,\n",
              "   59.8,\n",
              "   59.2,\n",
              "   59.5,\n",
              "   59.1,\n",
              "   59.9,\n",
              "   60.0,\n",
              "   59.5,\n",
              "   60.2,\n",
              "   59.9,\n",
              "   59.4,\n",
              "   60.5,\n",
              "   60.4,\n",
              "   60.0,\n",
              "   60.1,\n",
              "   59.6,\n",
              "   60.0,\n",
              "   60.2,\n",
              "   60.4,\n",
              "   59.8,\n",
              "   58.8,\n",
              "   60.0,\n",
              "   60.0,\n",
              "   59.7,\n",
              "   59.5,\n",
              "   58.7,\n",
              "   59.0,\n",
              "   60.2,\n",
              "   60.4,\n",
              "   60.5,\n",
              "   59.8,\n",
              "   60.1,\n",
              "   59.7,\n",
              "   59.5,\n",
              "   59.9,\n",
              "   59.1,\n",
              "   59.4,\n",
              "   59.5,\n",
              "   59.8,\n",
              "   60.5,\n",
              "   59.7,\n",
              "   59.4,\n",
              "   60.7,\n",
              "   61.5,\n",
              "   61.3,\n",
              "   60.2,\n",
              "   59.1,\n",
              "   61.0,\n",
              "   62.1,\n",
              "   62.3,\n",
              "   62.0,\n",
              "   60.9,\n",
              "   61.9,\n",
              "   62.2,\n",
              "   61.9,\n",
              "   62.4,\n",
              "   61.7,\n",
              "   62.1,\n",
              "   62.5,\n",
              "   None,\n",
              "   61.3,\n",
              "   59.1,\n",
              "   58.2,\n",
              "   60.1,\n",
              "   60.8,\n",
              "   61.8,\n",
              "   60.9,\n",
              "   59.7,\n",
              "   64.4,\n",
              "   64.9,\n",
              "   64.1,\n",
              "   62.2,\n",
              "   60.0,\n",
              "   61.0,\n",
              "   60.5,\n",
              "   60.2,\n",
              "   60.8,\n",
              "   59.4,\n",
              "   60.7,\n",
              "   61.6,\n",
              "   59.7,\n",
              "   59.9,\n",
              "   58.6,\n",
              "   59.0,\n",
              "   60.2,\n",
              "   59.8,\n",
              "   60.6,\n",
              "   59.0,\n",
              "   58.6,\n",
              "   60.3,\n",
              "   60.2,\n",
              "   61.0,\n",
              "   59.4,\n",
              "   60.7,\n",
              "   62.4,\n",
              "   62.0,\n",
              "   61.7,\n",
              "   61.8,\n",
              "   60.6,\n",
              "   61.6,\n",
              "   61.7,\n",
              "   61.1,\n",
              "   61.2,\n",
              "   60.2,\n",
              "   51.2,\n",
              "   34.2,\n",
              "   29.5,\n",
              "   27.6,\n",
              "   26.5,\n",
              "   25.9,\n",
              "   25.3,\n",
              "   24.8,\n",
              "   24.4,\n",
              "   24.1,\n",
              "   23.8,\n",
              "   23.6,\n",
              "   23.4,\n",
              "   23.2,\n",
              "   22.9,\n",
              "   22.7,\n",
              "   22.5,\n",
              "   22.3,\n",
              "   22.2,\n",
              "   22.0,\n",
              "   21.8,\n",
              "   22.1,\n",
              "   22.1,\n",
              "   21.9,\n",
              "   21.8,\n",
              "   21.7,\n",
              "   21.8,\n",
              "   21.8,\n",
              "   21.8,\n",
              "   21.8,\n",
              "   21.8,\n",
              "   21.8,\n",
              "   21.8,\n",
              "   21.8,\n",
              "   21.8,\n",
              "   21.8,\n",
              "   21.8,\n",
              "   21.8,\n",
              "   21.8,\n",
              "   21.8,\n",
              "   21.8,\n",
              "   21.8,\n",
              "   21.8,\n",
              "   21.8,\n",
              "   21.8,\n",
              "   21.8,\n",
              "   21.8,\n",
              "   21.8,\n",
              "   21.8,\n",
              "   21.8,\n",
              "   21.8,\n",
              "   21.8,\n",
              "   21.8,\n",
              "   21.8,\n",
              "   21.8,\n",
              "   21.8,\n",
              "   21.8,\n",
              "   21.8,\n",
              "   20.6,\n",
              "   20.2,\n",
              "   19.9,\n",
              "   19.8,\n",
              "   19.9,\n",
              "   20.2,\n",
              "   20.2,\n",
              "   20.3,\n",
              "   20.3,\n",
              "   20.4,\n",
              "   20.7,\n",
              "   None,\n",
              "   None,\n",
              "   None,\n",
              "   None,\n",
              "   None,\n",
              "   None,\n",
              "   None,\n",
              "   None,\n",
              "   None,\n",
              "   None,\n",
              "   None,\n",
              "   None,\n",
              "   None,\n",
              "   None,\n",
              "   None,\n",
              "   63.5,\n",
              "   64.0,\n",
              "   62.0,\n",
              "   60.6,\n",
              "   61.1,\n",
              "   60.9,\n",
              "   58.6,\n",
              "   44.6,\n",
              "   43.9,\n",
              "   54.7,\n",
              "   55.2,\n",
              "   54.7,\n",
              "   49.7,\n",
              "   46.6,\n",
              "   55.3,\n",
              "   55.2,\n",
              "   54.7,\n",
              "   47.1,\n",
              "   42.0,\n",
              "   57.0,\n",
              "   57.8,\n",
              "   58.6,\n",
              "   50.0,\n",
              "   40.6,\n",
              "   52.8,\n",
              "   54.6,\n",
              "   53.1,\n",
              "   53.6,\n",
              "   44.5,\n",
              "   52.8,\n",
              "   51.5,\n",
              "   52.0,\n",
              "   53.2,\n",
              "   45.4,\n",
              "   49.2,\n",
              "   54.9,\n",
              "   53.7,\n",
              "   53.4,\n",
              "   48.7,\n",
              "   45.3,\n",
              "   52.6,\n",
              "   52.6,\n",
              "   49.6,\n",
              "   48.6,\n",
              "   41.8,\n",
              "   53.3,\n",
              "   None,\n",
              "   None,\n",
              "   None,\n",
              "   None,\n",
              "   53.4,\n",
              "   None,\n",
              "   None,\n",
              "   None,\n",
              "   None,\n",
              "   None,\n",
              "   None,\n",
              "   None,\n",
              "   None,\n",
              "   None,\n",
              "   None,\n",
              "   None,\n",
              "   None,\n",
              "   None,\n",
              "   None,\n",
              "   None,\n",
              "   None,\n",
              "   None,\n",
              "   None,\n",
              "   None,\n",
              "   None,\n",
              "   None,\n",
              "   None,\n",
              "   None,\n",
              "   None,\n",
              "   None,\n",
              "   None,\n",
              "   None,\n",
              "   None,\n",
              "   None,\n",
              "   None,\n",
              "   None,\n",
              "   None,\n",
              "   None,\n",
              "   None,\n",
              "   None,\n",
              "   None,\n",
              "   None,\n",
              "   None,\n",
              "   None,\n",
              "   None,\n",
              "   None,\n",
              "   None,\n",
              "   None,\n",
              "   None,\n",
              "   None,\n",
              "   None,\n",
              "   None,\n",
              "   None,\n",
              "   None,\n",
              "   None,\n",
              "   None,\n",
              "   None,\n",
              "   None,\n",
              "   None,\n",
              "   None,\n",
              "   None,\n",
              "   None,\n",
              "   None,\n",
              "   None,\n",
              "   None,\n",
              "   None,\n",
              "   None,\n",
              "   None,\n",
              "   ...]],\n",
              " 'pointStart': 1577761200000,\n",
              " 'SeriesColor': ['#B833FF'],\n",
              " 'SeriesCount': 1,\n",
              " 'SeriesYmax': '99.0',\n",
              " 'SeriesYmin': '0.0',\n",
              " 'NavEndMax': '2022-09-21',\n",
              " 'pointInterval': 16740000,\n",
              " 'pointEnd': 1628121600000,\n",
              " 'NavEnd': '2021-08-05',\n",
              " 'GraphName': 'Температура ГВC',\n",
              " 'GraphYAxisName': '°C',\n",
              " 'SeriesValueSuffix': ['T3'],\n",
              " 'NavStart': '2019-12-31'}"
            ]
          },
          "metadata": {},
          "execution_count": 5
        }
      ]
    },
    {
      "cell_type": "code",
      "source": [
        "from datetime import datetime, timedelta"
      ],
      "metadata": {
        "id": "vwjJaaogkwiX"
      },
      "execution_count": 6,
      "outputs": []
    },
    {
      "cell_type": "code",
      "source": [
        "time_series = data['SeriesData'][0]"
      ],
      "metadata": {
        "id": "2xzYT5EmhJGi"
      },
      "execution_count": 7,
      "outputs": []
    },
    {
      "cell_type": "code",
      "source": [
        "print(\"Всего {} измерений, из которых {} - пустых \".format(len(time_series),time_series.count(None)))\n",
        "print(\"Процент пустых измерений составляет : {} %\".format(time_series.count(None)/len(time_series)*100))"
      ],
      "metadata": {
        "colab": {
          "base_uri": "https://localhost:8080/"
        },
        "id": "dMVhHxZJg1QY",
        "outputId": "db28fc43-d1c2-4c31-d541-2cf73305f248"
      },
      "execution_count": 8,
      "outputs": [
        {
          "output_type": "stream",
          "name": "stdout",
          "text": [
            "Всего 3010 измерений, из которых 542 - пустых \n",
            "Процент пустых измерений составляет : 18.006644518272424 %\n"
          ]
        }
      ]
    },
    {
      "cell_type": "code",
      "source": [
        "print(\"Start date : {}, End date : {}\".format(data['NavStart'],data['NavEnd']))"
      ],
      "metadata": {
        "colab": {
          "base_uri": "https://localhost:8080/"
        },
        "id": "8emIH5memjZj",
        "outputId": "e461fce5-e923-489d-8347-5b71dfdf3768"
      },
      "execution_count": 9,
      "outputs": [
        {
          "output_type": "stream",
          "name": "stdout",
          "text": [
            "Start date : 2019-12-31, End date : 2021-08-05\n"
          ]
        }
      ]
    },
    {
      "cell_type": "code",
      "source": [
        "start_date = datetime(*[int(x) for x in data['NavStart'].split('-')])"
      ],
      "metadata": {
        "id": "giKesBU0l7Oi"
      },
      "execution_count": 10,
      "outputs": []
    },
    {
      "cell_type": "code",
      "source": [
        "end_date = datetime(*[int(x) for x in data['NavEnd'].split('-')])"
      ],
      "metadata": {
        "id": "0nT1KcUWntvt"
      },
      "execution_count": 11,
      "outputs": []
    },
    {
      "cell_type": "code",
      "source": [
        "def get_timescales(start_date,end_date,ts_size):\n",
        "  time_delta = (end_date - start_date)/ts_size\n",
        "  return [start_date + time_delta*i for i in range(ts_size)]"
      ],
      "metadata": {
        "id": "dcHDtGNLov0q"
      },
      "execution_count": 12,
      "outputs": []
    },
    {
      "cell_type": "code",
      "source": [
        "datas = get_timescales(start_date,end_date,len(time_series))"
      ],
      "metadata": {
        "id": "08HafHmSmgYB"
      },
      "execution_count": 13,
      "outputs": []
    },
    {
      "cell_type": "code",
      "source": [
        "from matplotlib.dates import DateFormatter"
      ],
      "metadata": {
        "id": "Amy3khXwuOEm"
      },
      "execution_count": 14,
      "outputs": []
    },
    {
      "cell_type": "code",
      "source": [
        "data['GraphName']"
      ],
      "metadata": {
        "colab": {
          "base_uri": "https://localhost:8080/",
          "height": 35
        },
        "id": "qNqKqInJvIhY",
        "outputId": "970c3478-3044-4081-ab5e-e69f5950d4b6"
      },
      "execution_count": 15,
      "outputs": [
        {
          "output_type": "execute_result",
          "data": {
            "text/plain": [
              "'Температура ГВC'"
            ],
            "application/vnd.google.colaboratory.intrinsic+json": {
              "type": "string"
            }
          },
          "metadata": {},
          "execution_count": 15
        }
      ]
    },
    {
      "cell_type": "code",
      "source": [
        "time_series = np.array(time_series)"
      ],
      "metadata": {
        "id": "e01gq-AYfLxX"
      },
      "execution_count": 29,
      "outputs": []
    },
    {
      "cell_type": "code",
      "source": [
        "time_series"
      ],
      "metadata": {
        "colab": {
          "base_uri": "https://localhost:8080/"
        },
        "id": "mx2opimbgC3X",
        "outputId": "be9ccf4d-0b07-44d1-ad1f-580aebf06bd2"
      },
      "execution_count": 28,
      "outputs": [
        {
          "output_type": "execute_result",
          "data": {
            "text/plain": [
              "array([64.5, 64.1, 64.2, ..., 53.9, 55.4, 52.7], dtype=object)"
            ]
          },
          "metadata": {},
          "execution_count": 28
        }
      ]
    },
    {
      "cell_type": "code",
      "source": [
        "# Построение графика временного ряда \n",
        "plt.style.use('seaborn')\n",
        "plt.figure(figsize=(25,10))\n",
        "date_format = DateFormatter('%d-%m-%Y')\n",
        "plt.gca().xaxis.set_major_formatter(date_format)\n",
        "plt.plot_date(datas, time_series,linestyle ='solid')\n",
        "plt.xticks(fontsize=17)\n",
        "plt.yticks(fontsize=17)\n",
        "plt.title(data['GraphName'], fontdict = {'fontsize' : 30})\n",
        "plt.tight_layout()\n",
        "plt.show()"
      ],
      "metadata": {
        "colab": {
          "base_uri": "https://localhost:8080/",
          "height": 612
        },
        "id": "lOZl1felrmHn",
        "outputId": "711f2c45-70d4-4c40-df87-43d9102892ba"
      },
      "execution_count": 23,
      "outputs": [
        {
          "output_type": "display_data",
          "data": {
            "text/plain": [
              "<Figure size 1800x720 with 1 Axes>"
            ],
            "image/png": "[encoded data removed]"
          },
          "metadata": {}
        }
      ]
    },
    {
      "cell_type": "markdown",
      "source": [
        "Как видно - 18 процентов данных являются пустыми - что не очень хорошо. Нужно решать, как избавиться от этого\n"
      ],
      "metadata": {
        "id": "JZj40o3RiTQA"
      }
    },
    {
      "cell_type": "markdown",
      "source": [
        "Попробуем доставать только те данные, которые идут подряд без пропусков"
      ],
      "metadata": {
        "id": "Pp2eGV0ImMHP"
      }
    },
    {
      "cell_type": "code",
      "source": [
        "len(time_series)"
      ],
      "metadata": {
        "colab": {
          "base_uri": "https://localhost:8080/"
        },
        "id": "ezOpPCmjhgXr",
        "outputId": "18acd28b-8594-4a79-9bfa-c32e3bbfeb1c"
      },
      "execution_count": 31,
      "outputs": [
        {
          "output_type": "execute_result",
          "data": {
            "text/plain": [
              "3010"
            ]
          },
          "metadata": {},
          "execution_count": 31
        }
      ]
    },
    {
      "cell_type": "code",
      "source": [
        "def prepareTimeSeriesDataset(time_series,features):\n",
        "  X = []\n",
        "  y = []\n",
        "  for i in range(0,len(time_series) - (features + 1)):\n",
        "    if time_series[i:i + features - 1 ].all() and time_series[i+features] is not None:\n",
        "      X.append(time_series[i:i + features - 1 ])\n",
        "      y.append(time_series[i+features])\n",
        "  return np.array(X), np.array(y)"
      ],
      "metadata": {
        "id": "0Djfg6H7i9ie"
      },
      "execution_count": 108,
      "outputs": []
    },
    {
      "cell_type": "code",
      "source": [
        "X,y = prepareTimeSeriesDataset(time_series,25)"
      ],
      "metadata": {
        "id": "aUm0rYrkjW7d"
      },
      "execution_count": 304,
      "outputs": []
    },
    {
      "cell_type": "code",
      "source": [
        "from sklearn.linear_model import ElasticNet"
      ],
      "metadata": {
        "id": "UFdzUBDFl0ea"
      },
      "execution_count": 305,
      "outputs": []
    },
    {
      "cell_type": "code",
      "source": [
        "from sklearn.model_selection import train_test_split"
      ],
      "metadata": {
        "id": "8ZWjJ_DapH9N"
      },
      "execution_count": 306,
      "outputs": []
    },
    {
      "cell_type": "code",
      "source": [
        "X_train,X_test,y_train,y_test = train_test_split(X,y,test_size = 0.2)"
      ],
      "metadata": {
        "id": "Wj7OoKlPpWNO"
      },
      "execution_count": 307,
      "outputs": []
    },
    {
      "cell_type": "code",
      "source": [
        "regr = ElasticNet()\n",
        "regr.fit(X_train,y_train)\n",
        "print(\"Средняя квадратичная ошибка составляет: {}\".format(mean_squared_error(y_test,regr.predict(X_test))))"
      ],
      "metadata": {
        "colab": {
          "base_uri": "https://localhost:8080/"
        },
        "id": "BwaHO4w0pfTI",
        "outputId": "656f0316-60bf-4338-d270-4f2871a3bf9a"
      },
      "execution_count": 308,
      "outputs": [
        {
          "output_type": "stream",
          "name": "stdout",
          "text": [
            "Средняя квадратичная ошибка составляет: 7.436307321219975\n"
          ]
        }
      ]
    },
    {
      "cell_type": "code",
      "source": [
        "for i in range(X_train.shape[0]):\n",
        "  for j in range(X_train.shape[1]):\n",
        "    if X_train[i,j] is None:\n",
        "      print(i,j)\n",
        "      "
      ],
      "metadata": {
        "id": "cRnTK6E3qM0S"
      },
      "execution_count": 309,
      "outputs": []
    },
    {
      "cell_type": "code",
      "source": [
        "time_series[-14:]"
      ],
      "metadata": {
        "colab": {
          "base_uri": "https://localhost:8080/"
        },
        "id": "lnMB6BGOqP9Z",
        "outputId": "bb86bd80-6dc9-4b58-e8a2-eb6c12e80450"
      },
      "execution_count": 310,
      "outputs": [
        {
          "output_type": "execute_result",
          "data": {
            "text/plain": [
              "array([40.1, 44.8, 43.1, 37.2, 34.9, 51.2, 50.7, 51.5, 41.7, 40.9, 50.8,\n",
              "       53.9, 55.4, 52.7], dtype=object)"
            ]
          },
          "metadata": {},
          "execution_count": 310
        }
      ]
    },
    {
      "cell_type": "code",
      "source": [
        "def make_time_series_prediction(model,future_points,time_series,n_features,start_time,time_interval):\n",
        "  predicted_time_series = []\n",
        "  predicted_dates = []\n",
        "  for i in time_series[-n_features:]:\n",
        "    predicted_time_series.append(i)\n",
        "  for j in range(future_points):\n",
        "    predicted_time_series.append(model.predict(np.array(predicted_time_series[j:j+n_features]).reshape(1, -1))[0])\n",
        "  for it in range(len(predicted_time_series)):\n",
        "    predicted_dates.append(start_time + it*time_interval)\n",
        "  return predicted_time_series, predicted_dates\n"
      ],
      "metadata": {
        "id": "n5b52tjwqolf"
      },
      "execution_count": 311,
      "outputs": []
    },
    {
      "cell_type": "code",
      "source": [
        "regr.predict(X_test[-1].reshape(1,-1))[0]"
      ],
      "metadata": {
        "colab": {
          "base_uri": "https://localhost:8080/"
        },
        "id": "9Ddggac4rJxg",
        "outputId": "6456002c-4612-439c-ab05-90bad910c831"
      },
      "execution_count": 296,
      "outputs": [
        {
          "output_type": "execute_result",
          "data": {
            "text/plain": [
              "60.18690014526736"
            ]
          },
          "metadata": {},
          "execution_count": 296
        }
      ]
    },
    {
      "cell_type": "code",
      "source": [
        "time_series[-6:]"
      ],
      "metadata": {
        "colab": {
          "base_uri": "https://localhost:8080/"
        },
        "id": "AyIR6i6ExXdj",
        "outputId": "e29b6e83-535e-4559-9654-b96ab7f12d8e"
      },
      "execution_count": 297,
      "outputs": [
        {
          "output_type": "execute_result",
          "data": {
            "text/plain": [
              "array([41.7, 40.9, 50.8, 53.9, 55.4, 52.7], dtype=object)"
            ]
          },
          "metadata": {},
          "execution_count": 297
        }
      ]
    },
    {
      "cell_type": "code",
      "source": [
        "time_series[-600:-(600-24)]"
      ],
      "metadata": {
        "colab": {
          "base_uri": "https://localhost:8080/"
        },
        "id": "M_Z4RjYjx8OZ",
        "outputId": "c55b9527-8f91-438f-a328-81ce15fa6404"
      },
      "execution_count": 313,
      "outputs": [
        {
          "output_type": "execute_result",
          "data": {
            "text/plain": [
              "array([64.7, 64.7, 65.8, 66.9, 66.6, 66.0, 64.9, 65.9, 66.3, 62.9, 62.4,\n",
              "       62.2, 62.4, 62.3, 62.7, 63.4, 62.9, 63.1, 64.5, 64.2, 63.7, 63.4,\n",
              "       63.5, 62.8], dtype=object)"
            ]
          },
          "metadata": {},
          "execution_count": 313
        }
      ]
    },
    {
      "cell_type": "code",
      "source": [
        "start_time = datas[-600]"
      ],
      "metadata": {
        "id": "VUjLj1Igy6dk"
      },
      "execution_count": 314,
      "outputs": []
    },
    {
      "cell_type": "code",
      "source": [
        "start_time"
      ],
      "metadata": {
        "colab": {
          "base_uri": "https://localhost:8080/"
        },
        "id": "oGemBQeszmAG",
        "outputId": "b055b3cb-5290-4dfb-ba6e-78aaa95fda0f"
      },
      "execution_count": 315,
      "outputs": [
        {
          "output_type": "execute_result",
          "data": {
            "text/plain": [
              "datetime.datetime(2021, 4, 10, 18, 53, 49, 235400)"
            ]
          },
          "metadata": {},
          "execution_count": 315
        }
      ]
    },
    {
      "cell_type": "code",
      "source": [
        "time_interval = datas[-99] - datas[-100]"
      ],
      "metadata": {
        "id": "xinHVTI00mX_"
      },
      "execution_count": 316,
      "outputs": []
    },
    {
      "cell_type": "code",
      "source": [
        "predictions, pred_dates = make_time_series_prediction(regr,1200,time_series[-600:-(600-24)],24,start_time,time_interval)"
      ],
      "metadata": {
        "id": "hWD6wp6tzm7M"
      },
      "execution_count": 317,
      "outputs": []
    },
    {
      "cell_type": "code",
      "source": [
        "# Построение графика временного ряда \n",
        "plt.style.use('seaborn')\n",
        "plt.figure(figsize=(25,10))\n",
        "date_format = DateFormatter('%d-%m-%Y')\n",
        "plt.gca().xaxis.set_major_formatter(date_format)\n",
        "plt.plot_date(datas, time_series,linestyle ='solid')\n",
        "plt.plot_date(pred_dates, predictions,linestyle ='solid')\n",
        "plt.xticks(fontsize=17)\n",
        "plt.yticks(fontsize=17)\n",
        "plt.title(data['GraphName'], fontdict = {'fontsize' : 30})\n",
        "plt.tight_layout()\n",
        "plt.show()"
      ],
      "metadata": {
        "colab": {
          "base_uri": "https://localhost:8080/",
          "height": 613
        },
        "id": "dvwyMLGN1a2Y",
        "outputId": "48b29298-2917-4070-b4e8-0162df5b6690"
      },
      "execution_count": 318,
      "outputs": [
        {
          "output_type": "display_data",
          "data": {
            "text/plain": [
              "<Figure size 1800x720 with 1 Axes>"
            ],
            "image/png": "[encoded data removed]"
          },
          "metadata": {}
        }
      ]
    },
    {
      "cell_type": "code",
      "source": [
        "y.mean()"
      ],
      "metadata": {
        "colab": {
          "base_uri": "https://localhost:8080/"
        },
        "id": "0vcsS7la2AdD",
        "outputId": "130d05ae-4df2-4931-bcc6-cbac768032d6"
      },
      "execution_count": 321,
      "outputs": [
        {
          "output_type": "execute_result",
          "data": {
            "text/plain": [
              "63.12808398950131"
            ]
          },
          "metadata": {},
          "execution_count": 321
        }
      ]
    },
    {
      "cell_type": "code",
      "source": [],
      "metadata": {
        "id": "GhvnRJ6P2Fo8"
      },
      "execution_count": null,
      "outputs": []
    },
    {
      "cell_type": "markdown",
      "source": [
        "Пока что получается, что прогноз стремиться к какому то одному значение( чет типа среднего)\n",
        "\n",
        "Предлагаемые следующие действия:\n",
        "1.   Прогон моделей на искусственных данных без пропусков\n",
        "2.   Добавление разных типов моделей, а именно: Статистические, нейронные сети\n",
        "3.   Замена пропусков\n"
      ],
      "metadata": {
        "id": "2PbRd8fp4t2t"
      }
    },
    {
      "cell_type": "code",
      "source": [],
      "metadata": {
        "id": "g681IEQu5Hg1"
      },
      "execution_count": null,
      "outputs": []
    }
  ]
}