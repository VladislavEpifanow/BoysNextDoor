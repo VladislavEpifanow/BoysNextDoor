{
  "nbformat": 4,
  "nbformat_minor": 0,
  "metadata": {
    "colab": {
      "provenance": [],
      "collapsed_sections": [],
      "private_outputs": true,
      "mount_file_id": "1a3OCgJYevDYwju99nc9ZbZsU__x2MThW",
      "authorship_tag": "ABX9TyNRM08rfxmd+R6h0rPLvR/V",
      "include_colab_link": true
    },
    "kernelspec": {
      "name": "python3",
      "display_name": "Python 3"
    },
    "language_info": {
      "name": "python"
    },
    "accelerator": "GPU"
  },
  "cells": [
    {
      "cell_type": "markdown",
      "metadata": {
        "id": "view-in-github",
        "colab_type": "text"
      },
      "source": [
        "<a href=\"https://colab.research.google.com/github/VladislavEpifanow/BoysNextDoor/blob/main/Predictive_analytics%2C_Methods_research.ipynb\" target=\"_parent\"><img src=\"https://colab.research.google.com/assets/colab-badge.svg\" alt=\"Open In Colab\"/></a>"
      ]
    },
    {
      "cell_type": "code",
      "execution_count": null,
      "metadata": {
        "id": "tfkFj9qNfUu6"
      },
      "outputs": [],
      "source": [
        "import sys\n",
        "import warnings\n",
        "warnings.filterwarnings('ignore')\n",
        "from tqdm import tqdm\n",
        "\n",
        "import pandas as pd\n",
        "import numpy as np\n",
        "from sklearn.metrics import mean_absolute_error, mean_squared_error\n",
        "\n",
        "import statsmodels.formula.api as smf\n",
        "import statsmodels.tsa.api as smt\n",
        "import statsmodels.api as sm\n",
        "import scipy.stats as scs\n",
        "from scipy.optimize import minimize\n",
        "\n",
        "import matplotlib.pyplot as plt"
      ]
    },
    {
      "cell_type": "code",
      "source": [
        "import json"
      ],
      "metadata": {
        "id": "7euWP1tbfisg"
      },
      "execution_count": null,
      "outputs": []
    },
    {
      "cell_type": "code",
      "source": [
        "from google.colab import drive\n",
        "drive.mount('/content/drive') "
      ],
      "metadata": {
        "id": "CmOM5ilhE3S6"
      },
      "execution_count": null,
      "outputs": []
    },
    {
      "cell_type": "code",
      "source": [
        "import urllib.request, json \n",
        "with urllib.request.urlopen(\"https://teplo.set-energo.ru/elev/graph_data_json/5/%D0%A2%D0%B5%D0%BC%D0%BF%D0%B5%D1%80%D0%B0%D1%82%D1%83%D1%80%D0%B0%20%D0%93%D0%92C/2020-01-01/2022-08-05%2000:00\") as url:\n",
        "    data = json.load(url)\n",
        "    print(data)"
      ],
      "metadata": {
        "id": "8i-1E6zAGwOb"
      },
      "execution_count": null,
      "outputs": []
    },
    {
      "cell_type": "code",
      "source": [
        "from datetime import datetime, timedelta"
      ],
      "metadata": {
        "id": "vwjJaaogkwiX"
      },
      "execution_count": null,
      "outputs": []
    },
    {
      "cell_type": "code",
      "source": [
        "time_series = data['SeriesData'][0]"
      ],
      "metadata": {
        "id": "2xzYT5EmhJGi"
      },
      "execution_count": null,
      "outputs": []
    },
    {
      "cell_type": "code",
      "source": [
        "print(\"Всего {} измерений, из которых {} - пустых \".format(len(time_series),time_series.count(None)))\n",
        "print(\"Процент пустых измерений составляет : {} %\".format(time_series.count(None)/len(time_series)*100))"
      ],
      "metadata": {
        "id": "dMVhHxZJg1QY"
      },
      "execution_count": null,
      "outputs": []
    },
    {
      "cell_type": "code",
      "source": [
        "print(\"Start date : {}, End date : {}\".format(data['NavStart'],data['NavEnd']))"
      ],
      "metadata": {
        "id": "8emIH5memjZj"
      },
      "execution_count": null,
      "outputs": []
    },
    {
      "cell_type": "code",
      "source": [
        "start_date = datetime(*[int(x) for x in data['NavStart'].split('-')])"
      ],
      "metadata": {
        "id": "giKesBU0l7Oi"
      },
      "execution_count": null,
      "outputs": []
    },
    {
      "cell_type": "code",
      "source": [
        "end_date = datetime(*[int(x) for x in data['NavEnd'].split('-')])"
      ],
      "metadata": {
        "id": "0nT1KcUWntvt"
      },
      "execution_count": null,
      "outputs": []
    },
    {
      "cell_type": "code",
      "source": [
        "def get_timescales(start_date,end_date,ts_size):\n",
        "  time_delta = (end_date - start_date)/ts_size\n",
        "  return [start_date + time_delta*i for i in range(ts_size)]"
      ],
      "metadata": {
        "id": "dcHDtGNLov0q"
      },
      "execution_count": null,
      "outputs": []
    },
    {
      "cell_type": "code",
      "source": [
        "datas = get_timescales(start_date,end_date,len(time_series))"
      ],
      "metadata": {
        "id": "08HafHmSmgYB"
      },
      "execution_count": null,
      "outputs": []
    },
    {
      "cell_type": "code",
      "source": [
        "from matplotlib.dates import DateFormatter"
      ],
      "metadata": {
        "id": "Amy3khXwuOEm"
      },
      "execution_count": null,
      "outputs": []
    },
    {
      "cell_type": "code",
      "source": [
        "data['GraphName']"
      ],
      "metadata": {
        "id": "qNqKqInJvIhY"
      },
      "execution_count": null,
      "outputs": []
    },
    {
      "cell_type": "code",
      "source": [
        "time_series"
      ],
      "metadata": {
        "id": "mx2opimbgC3X"
      },
      "execution_count": null,
      "outputs": []
    },
    {
      "cell_type": "code",
      "source": [
        "# Построение графика временного ряда \n",
        "plt.style.use('seaborn')\n",
        "plt.figure(figsize=(25,10))\n",
        "date_format = DateFormatter('%d-%m-%Y')\n",
        "plt.gca().xaxis.set_major_formatter(date_format)\n",
        "plt.plot_date(datas, time_series,linestyle ='solid')\n",
        "plt.xticks(fontsize=17)\n",
        "plt.yticks(fontsize=17)\n",
        "plt.title(data['GraphName'], fontdict = {'fontsize' : 30})\n",
        "plt.tight_layout()\n",
        "plt.show()"
      ],
      "metadata": {
        "id": "lOZl1felrmHn"
      },
      "execution_count": null,
      "outputs": []
    },
    {
      "cell_type": "markdown",
      "source": [
        "Как видно - 18 процентов данных являются пустыми - что не очень хорошо. Нужно решать, как избавиться от этого\n"
      ],
      "metadata": {
        "id": "JZj40o3RiTQA"
      }
    },
    {
      "cell_type": "code",
      "source": [
        "time_series = np.array(data['SeriesData'][0])"
      ],
      "metadata": {
        "id": "o62p98yBC7UC"
      },
      "execution_count": null,
      "outputs": []
    },
    {
      "cell_type": "code",
      "source": [
        "df = pd.Series(time_series)"
      ],
      "metadata": {
        "id": "i5Zwcauq9ERi"
      },
      "execution_count": null,
      "outputs": []
    },
    {
      "cell_type": "code",
      "source": [
        "# TODO: Не всегда интерполируется с первого раза\n",
        "df = df.interpolate()"
      ],
      "metadata": {
        "id": "JrkhKkRM_9fW"
      },
      "execution_count": null,
      "outputs": []
    },
    {
      "cell_type": "code",
      "source": [
        "time_series = np.copy(df.to_numpy(dtype=float))"
      ],
      "metadata": {
        "id": "9jGxhhng_HJA"
      },
      "execution_count": null,
      "outputs": []
    },
    {
      "cell_type": "code",
      "source": [
        "len(np.argwhere(np.isnan(time_series)))"
      ],
      "metadata": {
        "id": "DY3iCokI-g9Z"
      },
      "execution_count": null,
      "outputs": []
    },
    {
      "cell_type": "code",
      "source": [
        "# Построение графика временного ряда c интерполяцией\n",
        "plt.style.use('seaborn')\n",
        "plt.figure(figsize=(25,10))\n",
        "date_format = DateFormatter('%d-%m-%Y')\n",
        "plt.gca().xaxis.set_major_formatter(date_format)\n",
        "plt.plot_date(datas, time_series,linestyle ='solid')\n",
        "plt.xticks(fontsize=17)\n",
        "plt.yticks(fontsize=17)\n",
        "plt.title(data['GraphName'], fontdict = {'fontsize' : 30})\n",
        "plt.tight_layout()\n",
        "plt.show()"
      ],
      "metadata": {
        "id": "3I2wQ_ji-Yq9"
      },
      "execution_count": null,
      "outputs": []
    },
    {
      "cell_type": "code",
      "source": [
        "len(time_series)"
      ],
      "metadata": {
        "id": "ezOpPCmjhgXr"
      },
      "execution_count": null,
      "outputs": []
    },
    {
      "cell_type": "code",
      "source": [
        "def prepareTimeSeriesDataset(time_series,features):\n",
        "  X = []\n",
        "  y = []\n",
        "  for i in range(0,len(time_series) - (features + 1)):\n",
        "    if time_series[i:i + features - 1 ].all() and time_series[i+features] is not None:\n",
        "      X.append(time_series[i:i + features - 1 ])\n",
        "      y.append(time_series[i+features])\n",
        "  return np.array(X), np.array(y)"
      ],
      "metadata": {
        "id": "0Djfg6H7i9ie"
      },
      "execution_count": null,
      "outputs": []
    },
    {
      "cell_type": "code",
      "source": [
        "X,y = prepareTimeSeriesDataset(time_series,15)"
      ],
      "metadata": {
        "id": "aUm0rYrkjW7d"
      },
      "execution_count": null,
      "outputs": []
    },
    {
      "cell_type": "code",
      "source": [
        "from sklearn.linear_model import ElasticNet,LinearRegression"
      ],
      "metadata": {
        "id": "UFdzUBDFl0ea"
      },
      "execution_count": null,
      "outputs": []
    },
    {
      "cell_type": "code",
      "source": [
        "from sklearn.model_selection import train_test_split"
      ],
      "metadata": {
        "id": "8ZWjJ_DapH9N"
      },
      "execution_count": null,
      "outputs": []
    },
    {
      "cell_type": "code",
      "source": [
        "X_train,X_test,y_train,y_test = train_test_split(X,y,test_size = 0.2)"
      ],
      "metadata": {
        "id": "Wj7OoKlPpWNO"
      },
      "execution_count": null,
      "outputs": []
    },
    {
      "cell_type": "code",
      "source": [
        "regr = ElasticNet()\n",
        "regr.fit(X_train,y_train)\n",
        "print(\"Средняя квадратичная ошибка составляет: {}\".format(mean_squared_error(y_test,regr.predict(X_test))))"
      ],
      "metadata": {
        "id": "BwaHO4w0pfTI"
      },
      "execution_count": null,
      "outputs": []
    },
    {
      "cell_type": "code",
      "source": [
        "for i in range(X_train.shape[0]):\n",
        "  for j in range(X_train.shape[1]):\n",
        "    if X_train[i,j] is None:\n",
        "      print(i,j)\n",
        "      "
      ],
      "metadata": {
        "id": "cRnTK6E3qM0S"
      },
      "execution_count": null,
      "outputs": []
    },
    {
      "cell_type": "code",
      "source": [
        "time_series[-15:]"
      ],
      "metadata": {
        "id": "lnMB6BGOqP9Z"
      },
      "execution_count": null,
      "outputs": []
    },
    {
      "cell_type": "code",
      "source": [
        "def make_time_series_prediction(model,future_points,time_series,n_features,start_time,time_interval):\n",
        "  predicted_time_series = []\n",
        "  predicted_dates = []\n",
        "  for i in time_series[-n_features:]:\n",
        "    predicted_time_series.append(i)\n",
        "  for j in range(future_points):\n",
        "    predicted_time_series.append(model.predict(np.array(predicted_time_series[j:j+n_features]).reshape(1, -1))[0])\n",
        "  for it in range(len(predicted_time_series)):\n",
        "    predicted_dates.append(start_time + it*time_interval)\n",
        "  return predicted_time_series, predicted_dates\n"
      ],
      "metadata": {
        "id": "n5b52tjwqolf"
      },
      "execution_count": null,
      "outputs": []
    },
    {
      "cell_type": "code",
      "source": [
        "regr.predict(X_test[-1].reshape(1,-1))[0]"
      ],
      "metadata": {
        "id": "9Ddggac4rJxg"
      },
      "execution_count": null,
      "outputs": []
    },
    {
      "cell_type": "code",
      "source": [
        "time_series[-6:]"
      ],
      "metadata": {
        "id": "AyIR6i6ExXdj"
      },
      "execution_count": null,
      "outputs": []
    },
    {
      "cell_type": "code",
      "source": [
        "time_series[-200:-(200-14)]"
      ],
      "metadata": {
        "id": "M_Z4RjYjx8OZ"
      },
      "execution_count": null,
      "outputs": []
    },
    {
      "cell_type": "code",
      "source": [
        "start_time = datas[-200]"
      ],
      "metadata": {
        "id": "VUjLj1Igy6dk"
      },
      "execution_count": null,
      "outputs": []
    },
    {
      "cell_type": "code",
      "source": [
        "start_time"
      ],
      "metadata": {
        "id": "oGemBQeszmAG"
      },
      "execution_count": null,
      "outputs": []
    },
    {
      "cell_type": "code",
      "source": [
        "time_interval = datas[-99] - datas[-100]"
      ],
      "metadata": {
        "id": "xinHVTI00mX_"
      },
      "execution_count": null,
      "outputs": []
    },
    {
      "cell_type": "code",
      "source": [
        "predictions, pred_dates = make_time_series_prediction(regr,400,time_series[-200:-(200-14)],14,start_time,time_interval)"
      ],
      "metadata": {
        "id": "hWD6wp6tzm7M"
      },
      "execution_count": null,
      "outputs": []
    },
    {
      "cell_type": "code",
      "source": [
        "# Построение графика временного ряда \n",
        "plt.style.use('seaborn')\n",
        "plt.figure(figsize=(25,10))\n",
        "date_format = DateFormatter('%d-%m-%Y')\n",
        "plt.gca().xaxis.set_major_formatter(date_format)\n",
        "plt.plot_date(datas, time_series,linestyle ='solid')\n",
        "plt.plot_date(pred_dates, predictions,linestyle ='solid')\n",
        "plt.xticks(fontsize=17)\n",
        "plt.yticks(fontsize=17)\n",
        "plt.title(data['GraphName'], fontdict = {'fontsize' : 30})\n",
        "plt.tight_layout()\n",
        "plt.show()"
      ],
      "metadata": {
        "id": "dvwyMLGN1a2Y"
      },
      "execution_count": null,
      "outputs": []
    },
    {
      "cell_type": "code",
      "source": [
        "y.mean()"
      ],
      "metadata": {
        "id": "0vcsS7la2AdD"
      },
      "execution_count": null,
      "outputs": []
    },
    {
      "cell_type": "code",
      "source": [],
      "metadata": {
        "id": "GhvnRJ6P2Fo8"
      },
      "execution_count": null,
      "outputs": []
    },
    {
      "cell_type": "markdown",
      "source": [
        "Пока что получается, что прогноз стремиться к какому то одному значение( чет типа среднего)\n",
        "\n",
        "Предлагаемые следующие действия:\n",
        "1.   Прогон моделей на искусственных данных без пропусков\n",
        "2.   Добавление разных типов моделей, а именно: Статистические, нейронные сети\n",
        "3.   Замена пропусков\n"
      ],
      "metadata": {
        "id": "2PbRd8fp4t2t"
      }
    },
    {
      "cell_type": "code",
      "source": [
        "from sklearn.preprocessing import MinMaxScaler"
      ],
      "metadata": {
        "id": "g681IEQu5Hg1"
      },
      "execution_count": null,
      "outputs": []
    },
    {
      "cell_type": "code",
      "source": [
        "num_shape = 2985\n",
        "\n",
        "train = time_series[:num_shape]\n",
        "test = time_series[num_shape:]"
      ],
      "metadata": {
        "id": "KwT26tQNbbNq"
      },
      "execution_count": null,
      "outputs": []
    },
    {
      "cell_type": "code",
      "source": [
        "sc = MinMaxScaler(feature_range = (0, 1))\n",
        "train_scaled = sc.fit_transform(train.reshape(-1, 1))"
      ],
      "metadata": {
        "id": "TkyeHT-FclSi"
      },
      "execution_count": null,
      "outputs": []
    },
    {
      "cell_type": "code",
      "source": [
        "X_train = []\n",
        "\n",
        "#Price on next day\n",
        "y_train = []\n",
        "\n",
        "window = 60\n",
        "\n",
        "for i in range(window, num_shape):\n",
        "    X_train_ = np.reshape(train_scaled[i-window:i, 0], (window, 1))\n",
        "    X_train.append(X_train_)\n",
        "    y_train.append(train_scaled[i, 0])\n",
        "X_train = np.stack(X_train)\n",
        "y_train = np.stack(y_train)"
      ],
      "metadata": {
        "id": "wBJ5nxKzd3LO"
      },
      "execution_count": null,
      "outputs": []
    },
    {
      "cell_type": "code",
      "source": [
        "X_train"
      ],
      "metadata": {
        "id": "Ycnis8dHeCHj"
      },
      "execution_count": null,
      "outputs": []
    },
    {
      "cell_type": "code",
      "source": [],
      "metadata": {
        "id": "WT-9PD-5eDFU"
      },
      "execution_count": null,
      "outputs": []
    },
    {
      "cell_type": "markdown",
      "source": [
        "Теперь попробуем подключить нейронную сеть LSTM из библиотеки Keras"
      ],
      "metadata": {
        "id": "_MvQgVn4eVrZ"
      }
    },
    {
      "cell_type": "code",
      "source": [
        "from keras.models import Sequential\n",
        "from keras.layers import Dense, LSTM, Dropout, GRU\n",
        "from keras.layers import *\n",
        "from sklearn.preprocessing import MinMaxScaler\n",
        "from sklearn.metrics import mean_squared_error, mean_absolute_error\n",
        "from sklearn.model_selection import train_test_split\n",
        "from keras.callbacks import EarlyStopping\n",
        "from keras.optimizers import adam_v2"
      ],
      "metadata": {
        "id": "KDlSAmlueZd-"
      },
      "execution_count": null,
      "outputs": []
    },
    {
      "cell_type": "code",
      "source": [
        "# Инициализация Рекурентной нейронной сети\n",
        "model = Sequential()\n",
        "\n",
        "model.add(LSTM(units = 50, return_sequences = True, input_shape = (X_train.shape[1], 1)))\n",
        "model.add(Dropout(0.2))\n",
        "\n",
        "model.add(LSTM(units = 50, return_sequences = True))\n",
        "model.add(Dropout(0.2))\n",
        "\n",
        "model.add(LSTM(units = 50, return_sequences = True))\n",
        "model.add(Dropout(0.2))\n",
        "\n",
        "model.add(LSTM(units = 50))\n",
        "model.add(Dropout(0.2))\n",
        "\n",
        "# Выходной слой\n",
        "model.add(Dense(units = 1))\n",
        "model.summary()"
      ],
      "metadata": {
        "id": "afEaEgH9edES"
      },
      "execution_count": null,
      "outputs": []
    },
    {
      "cell_type": "code",
      "source": [
        "model.compile(optimizer = 'adam', loss = 'mean_squared_error')\n",
        "model.fit(X_train, y_train, epochs = 500, batch_size = 16);"
      ],
      "metadata": {
        "id": "2jihd9jdfGsZ"
      },
      "execution_count": null,
      "outputs": []
    },
    {
      "cell_type": "markdown",
      "source": [
        "Теперь попробуем предсказать выход модели LSTM:"
      ],
      "metadata": {
        "id": "1gkcJM9rfrzd"
      }
    },
    {
      "cell_type": "code",
      "source": [
        "df_volume = np.vstack((train.reshape(-1,1), test.reshape(-1,1)))\n",
        "\n",
        "inputs = df_volume[df_volume.shape[0] - test.shape[0] - window:]\n",
        "inputs = inputs.reshape(-1,1)\n",
        "inputs = sc.transform(inputs)\n",
        "\n",
        "num_2 = df_volume.shape[0] - num_shape + window\n",
        "\n",
        "X_test = []\n",
        "\n",
        "for i in range(window, num_2):\n",
        "    X_test_ = np.reshape(inputs[i-window:i, 0], (window, 1))\n",
        "    X_test.append(X_test_)\n",
        "    \n",
        "X_test = np.stack(X_test)"
      ],
      "metadata": {
        "id": "_V5AnxR4fuJX"
      },
      "execution_count": null,
      "outputs": []
    },
    {
      "cell_type": "code",
      "source": [],
      "metadata": {
        "id": "tKyZc-RwrL43"
      },
      "execution_count": null,
      "outputs": []
    },
    {
      "cell_type": "code",
      "source": [
        "predict = model.predict(X_test)\n",
        "predict = sc.inverse_transform(predict)"
      ],
      "metadata": {
        "id": "h2Z1HCtPolNF"
      },
      "execution_count": null,
      "outputs": []
    },
    {
      "cell_type": "code",
      "source": [
        "diff = predict - test\n",
        "\n",
        "print(\"MSE:\", np.mean(diff**2))\n",
        "print(\"MAE:\", np.mean(abs(diff)))\n",
        "print(\"RMSE:\", np.sqrt(np.mean(diff**2)))"
      ],
      "metadata": {
        "id": "gtQzrBmUopM7"
      },
      "execution_count": null,
      "outputs": []
    },
    {
      "cell_type": "code",
      "source": [
        "# Построение графика временного ряда \n",
        "plt.style.use('seaborn')\n",
        "plt.figure(figsize=(25,10))\n",
        "date_format = DateFormatter('%d-%m-%Y')\n",
        "plt.gca().xaxis.set_major_formatter(date_format)\n",
        "plt.plot_date(datas[-100:], time_series[-100:],linestyle ='solid',color ='red',label = 'Реальное значение')\n",
        "plt.plot_date(datas[-19:], predict,linestyle ='solid',color = 'blue', label = 'Предсказанное значение')\n",
        "plt.xticks(fontsize=17)\n",
        "plt.yticks(fontsize=17)\n",
        "plt.title(data['GraphName'], fontdict = {'fontsize' : 30})\n",
        "plt.xlabel('Дата')\n",
        "plt.legend()\n",
        "plt.ylabel(data['GraphYAxisName'])\n",
        "plt.tight_layout()\n",
        "plt.show()"
      ],
      "metadata": {
        "id": "ZK0Ls45spJmf"
      },
      "execution_count": null,
      "outputs": []
    },
    {
      "cell_type": "code",
      "source": [
        "model.save('/content/drive/MyDrive/GachiDashboard')"
      ],
      "metadata": {
        "id": "7ErgPxRJtF6p"
      },
      "execution_count": null,
      "outputs": []
    },
    {
      "cell_type": "code",
      "source": [],
      "metadata": {
        "id": "oh9UDWpVtXQF"
      },
      "execution_count": null,
      "outputs": []
    }
  ]
}